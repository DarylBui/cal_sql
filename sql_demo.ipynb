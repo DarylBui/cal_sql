{
 "cells": [
  {
   "cell_type": "markdown",
   "metadata": {},
   "source": [
    "# Setup"
   ]
  },
  {
   "cell_type": "code",
   "execution_count": null,
   "metadata": {},
   "outputs": [],
   "source": [
    "!pip install ipython-sql\n",
    "!pip install pandas\n",
    "\n",
    "import pandas as pd\n",
    "import sqlalchemy\n",
    "import sqlite3\n",
    "\n",
    "\n",
    "%load_ext sql\n",
    "%sql sqlite://"
   ]
  },
  {
   "cell_type": "markdown",
   "metadata": {},
   "source": [
    "# Create Data"
   ]
  },
  {
   "cell_type": "code",
   "execution_count": null,
   "metadata": {},
   "outputs": [],
   "source": [
    "data = pd.read_csv (r'./owners.csv')\n",
    "df = pd.DataFrame(data, columns= ['ownerid', 'name', 'age'])\n",
    "conn = sqlite3.connect(\"Any_Database_Name.db\")\n",
    "df.to_sql('owners', conn)"
   ]
  },
  {
   "cell_type": "code",
   "execution_count": null,
   "metadata": {},
   "outputs": [],
   "source": [
    "data = pd.read_csv (r'./cats.csv')\n",
    "df = pd.DataFrame(data, columns= ['catid', 'owner', 'name', 'breed', 'age'])\n",
    "df.to_sql('cats', conn)"
   ]
  },
  {
   "cell_type": "code",
   "execution_count": null,
   "metadata": {},
   "outputs": [],
   "source": [
    "df = pd.read_sql(\"SELECT * FROM owners\", conn)\n",
    "df = df.set_index(\"ownerid\")\n",
    "df.loc[:,[\"name\", \"age\"]]"
   ]
  },
  {
   "cell_type": "code",
   "execution_count": null,
   "metadata": {},
   "outputs": [],
   "source": [
    "df = pd.read_sql(\"SELECT * FROM cats\", conn)\n",
    "df.loc[:,[\"catid\", \"owner\", \"name\", \"breed\", \"age\"]]"
   ]
  },
  {
   "cell_type": "markdown",
   "metadata": {},
   "source": [
    "# Practice Questions"
   ]
  },
  {
   "cell_type": "markdown",
   "metadata": {},
   "source": [
    "CREATE TABLE owners ( <br>\n",
    "ownerid integer, <br>\n",
    "name text, <br>\n",
    "age integer,<br>\n",
    "PRIMARY KEY (ownerid) breed text,<br>\n",
    ");\n",
    "<br>\n",
    "<br>\n",
    "CREATE TABLE cats (<br>\n",
    "catid integer, <br>\n",
    "owner integer,<br>\n",
    "name text,<br>\n",
    "breed text,<br>\n",
    "age integer,<br>\n",
    "PRIMARY KEY (catid),<br>\n",
    "FOREIGN KEY (owner) REFERENCES owners<br>\n",
    ");"
   ]
  },
  {
   "cell_type": "markdown",
   "metadata": {},
   "source": [
    "### 1) Write a SQL query to figure out the number of cats, over the age of 6, of each breed of cat."
   ]
  },
  {
   "cell_type": "code",
   "execution_count": null,
   "metadata": {},
   "outputs": [],
   "source": [
    "query = \"\"\"\n",
    "\n",
    "\"\"\"\n",
    "\n",
    "df = pd.read_sql(query, conn)\n",
    "df"
   ]
  },
  {
   "cell_type": "markdown",
   "metadata": {},
   "source": [
    "### 2) Write a SQL query to figure out the number of cats each owner owns for owners whose id is greater than 10."
   ]
  },
  {
   "cell_type": "code",
   "execution_count": null,
   "metadata": {},
   "outputs": [],
   "source": [
    "query = \"\"\"\n",
    "\n",
    "\"\"\"\n",
    "\n",
    "df = pd.read_sql(query, conn)\n",
    "df"
   ]
  },
  {
   "cell_type": "markdown",
   "metadata": {},
   "source": [
    "### 3) Write a SQL query to figure out the name of the one cat owner who owns the most cats."
   ]
  },
  {
   "cell_type": "code",
   "execution_count": null,
   "metadata": {},
   "outputs": [],
   "source": [
    "query = \"\"\"\n",
    "\n",
    "\"\"\"\n",
    "\n",
    "df = pd.read_sql(query, conn)\n",
    "df"
   ]
  },
  {
   "cell_type": "markdown",
   "metadata": {},
   "source": [
    "### 4) Write a SQL query to get the Maine Coons (a cat breed) with a name that starts with the letter A."
   ]
  },
  {
   "cell_type": "code",
   "execution_count": null,
   "metadata": {},
   "outputs": [],
   "source": [
    "query = \"\"\"\n",
    "\n",
    "\"\"\"\n",
    "\n",
    "df = pd.read_sql(query, conn)\n",
    "df"
   ]
  },
  {
   "cell_type": "markdown",
   "metadata": {},
   "source": [
    "### 5) Write a SQL query to create an almost identical table as cats, except with an additional column ’Nickname’ that has the value ’Kitten’ for cats less than or equal to the age of 1, ’Catto’ for cats between 1 and 8, and ’Wise One’ for cats older than or equal to 8."
   ]
  },
  {
   "cell_type": "code",
   "execution_count": null,
   "metadata": {},
   "outputs": [],
   "source": [
    "query = \"\"\"\n",
    "\n",
    "\"\"\"\n",
    "\n",
    "df = pd.read_sql(query, conn)\n",
    "df"
   ]
  }
 ],
 "metadata": {
  "kernelspec": {
   "display_name": "Python 3",
   "language": "python",
   "name": "python3"
  },
  "language_info": {
   "codemirror_mode": {
    "name": "ipython",
    "version": 3
   },
   "file_extension": ".py",
   "mimetype": "text/x-python",
   "name": "python",
   "nbconvert_exporter": "python",
   "pygments_lexer": "ipython3",
   "version": "3.8.3"
  }
 },
 "nbformat": 4,
 "nbformat_minor": 4
}
